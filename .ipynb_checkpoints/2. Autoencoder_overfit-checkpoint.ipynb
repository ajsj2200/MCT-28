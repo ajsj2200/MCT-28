{
 "cells": [
  {
   "cell_type": "markdown",
   "metadata": {},
   "source": [
    "# **긴 시계열의 대표 패턴 추출 방법 연구 (2)**\n",
    "\n",
    "### 창원대 전자공학과 20145234 황주효 (Hwang Ju-hyo, Department of Electronic Engineering, Changwon University)\n",
    "---\n",
    "\n",
    "* 짧은 시계열(120초 미만)의 경우, 여러 시계열 유사도 비교 방법을 사용하여 비슷한 패턴을 추출하고 이를 TimeKMeans 클러스터링과 DBA를 이용해 대표 패턴 추출이 가능하다.\n",
    "\n",
    "* 그러나 실제 제조 데이터를 보면 자주 관측할 수 있는 패턴이 120초 이상인 경우가 많다. 이를 위의 방법으로 그대로 시행하면 시간이 매우 오래 걸리고, 심지어 새로운 데이터가 생길때마다 모든 과정을 새로 시행해야한다. 더군다나 시간이 자면 데이터가 많이 쌓일텐데 이를 모두 클러스터링하기에는 시간 자원이 부족하다.\n",
    "\n",
    "* 따라서 이를 해결하기 위해 우리는 시계열의 차원 축소를 행해야하고 이를 AutoEncoder를 이용해 수행해본다.\n",
    "\n",
    "과정은 다음과 같다.\n",
    "1. 데이터 관찰 및 STL 사용\n",
    "2. AutoEncoder 훈련\n",
    "3. Encoder의 출력으로 TimeKMeans 클러스터링 및 대표패턴 추출\n",
    "4. 상관계수 도출"
   ]
  },
  {
   "cell_type": "code",
   "execution_count": 41,
   "metadata": {},
   "outputs": [],
   "source": [
    "import pickle\n",
    "import tensorflow as tf\n",
    "import warnings\n",
    "warnings.filterwarnings('ignore')\n",
    "\n",
    "with open(\"extract_padding.pickle\",\"rb\") as fr:\n",
    "    df = pickle.load(fr)"
   ]
  },
  {
   "cell_type": "code",
   "execution_count": 2,
   "metadata": {},
   "outputs": [
    {
     "data": {
      "text/plain": [
       "(326, 4000)"
      ]
     },
     "execution_count": 2,
     "metadata": {},
     "output_type": "execute_result"
    }
   ],
   "source": [
    "data = df['vibr']\n",
    "data.shape"
   ]
  },
  {
   "cell_type": "code",
   "execution_count": 3,
   "metadata": {},
   "outputs": [],
   "source": [
    "data = data.reshape(326, 4000, 1)\n",
    "data.shape\n",
    "\n",
    "gpus = tf.config.experimental.list_physical_devices('GPU')\n",
    "if gpus:\n",
    "  try:\n",
    "    # Currently, memory growth needs to be the same across GPUs\n",
    "    for gpu in gpus:\n",
    "      tf.config.experimental.set_memory_growth(gpu, True)\n",
    "    logical_gpus = tf.config.experimental.list_logical_devices('GPU')\n",
    "    print(len(gpus), \"Physical GPUs,\", len(logical_gpus), \"Logical GPUs\")\n",
    "  except RuntimeError as e:\n",
    "    # Memory growth must be set before GPUs have been initialized\n",
    "    print(e)"
   ]
  },
  {
   "cell_type": "markdown",
   "metadata": {},
   "source": [
    "## 인코더 차원 : 500"
   ]
  },
  {
   "cell_type": "code",
   "execution_count": 42,
   "metadata": {},
   "outputs": [
    {
     "name": "stdout",
     "output_type": "stream",
     "text": [
      "Model: \"model_3\"\n",
      "_________________________________________________________________\n",
      "Layer (type)                 Output Shape              Param #   \n",
      "=================================================================\n",
      "input_3 (InputLayer)         [(None, 4000, 1)]         0         \n",
      "_________________________________________________________________\n",
      "conv1d_8 (Conv1D)            (None, 4000, 64)          224064    \n",
      "_________________________________________________________________\n",
      "batch_normalization_8 (Batch (None, 4000, 64)          256       \n",
      "_________________________________________________________________\n",
      "max_pooling1d_3 (MaxPooling1 (None, 2000, 64)          0         \n",
      "_________________________________________________________________\n",
      "conv1d_9 (Conv1D)            (None, 2000, 64)          819264    \n",
      "_________________________________________________________________\n",
      "batch_normalization_9 (Batch (None, 2000, 64)          256       \n",
      "_________________________________________________________________\n",
      "max_pooling1d_4 (MaxPooling1 (None, 1000, 64)          0         \n",
      "_________________________________________________________________\n",
      "conv1d_10 (Conv1D)           (None, 1000, 128)         409728    \n",
      "_________________________________________________________________\n",
      "batch_normalization_10 (Batc (None, 1000, 128)         512       \n",
      "_________________________________________________________________\n",
      "max_pooling1d_5 (MaxPooling1 (None, 500, 128)          0         \n",
      "_________________________________________________________________\n",
      "conv1d_11 (Conv1D)           (None, 500, 1)            129       \n",
      "_________________________________________________________________\n",
      "batch_normalization_11 (Batc (None, 500, 1)            4         \n",
      "_________________________________________________________________\n",
      "up_sampling1d_3 (UpSampling1 (None, 1000, 1)           0         \n",
      "_________________________________________________________________\n",
      "conv1d_12 (Conv1D)           (None, 1000, 128)         6528      \n",
      "_________________________________________________________________\n",
      "batch_normalization_12 (Batc (None, 1000, 128)         512       \n",
      "_________________________________________________________________\n",
      "up_sampling1d_4 (UpSampling1 (None, 2000, 128)         0         \n",
      "_________________________________________________________________\n",
      "conv1d_13 (Conv1D)           (None, 2000, 64)          524352    \n",
      "_________________________________________________________________\n",
      "batch_normalization_13 (Batc (None, 2000, 64)          256       \n",
      "_________________________________________________________________\n",
      "up_sampling1d_5 (UpSampling1 (None, 4000, 64)          0         \n",
      "_________________________________________________________________\n",
      "conv1d_14 (Conv1D)           (None, 4000, 64)          204864    \n",
      "_________________________________________________________________\n",
      "batch_normalization_14 (Batc (None, 4000, 64)          256       \n",
      "_________________________________________________________________\n",
      "conv1d_15 (Conv1D)           (None, 4000, 1)           65        \n",
      "_________________________________________________________________\n",
      "batch_normalization_15 (Batc (None, 4000, 1)           4         \n",
      "=================================================================\n",
      "Total params: 2,191,050\n",
      "Trainable params: 2,190,022\n",
      "Non-trainable params: 1,028\n",
      "_________________________________________________________________\n"
     ]
    }
   ],
   "source": [
    "timesteps = 4000\n",
    "n_features = 1\n",
    "\n",
    "import numpy as np\n",
    "from tensorflow.keras.models import Sequential\n",
    "from tensorflow.keras.layers import LSTM, Conv1D, Flatten, MaxPooling1D, UpSampling1D, Reshape\n",
    "from tensorflow.keras.layers import Dense\n",
    "from tensorflow.keras.layers import RepeatVector\n",
    "from tensorflow.keras.layers import TimeDistributed\n",
    "from tensorflow.keras.layers import Input\n",
    "from tensorflow.keras.models import Model\n",
    "from tensorflow.keras.layers import BatchNormalization, Dropout\n",
    "\n",
    "import tensorflow as tf\n",
    "# define model\n",
    "\n",
    "visible = Input(shape = (timesteps, n_features))\n",
    "encoder = Conv1D(64, 3500, activation='relu', padding = 'same')(visible)\n",
    "x = BatchNormalization()(encoder)\n",
    "x = MaxPooling1D(2, padding = 'same')(x)\n",
    "\n",
    "x = Conv1D(64, 200, activation='relu', padding = 'same')(x)\n",
    "x = BatchNormalization()(x)\n",
    "x = MaxPooling1D(2, padding = 'same')(x)\n",
    "\n",
    "x = Conv1D(128, 50, activation='relu', padding = 'same')(x)\n",
    "x = BatchNormalization()(x)\n",
    "x = MaxPooling1D(2, padding = 'same')(x)\n",
    "\n",
    "\n",
    "x = Conv1D(1, 1, activation='relu', padding = 'same')(x)\n",
    "mid_output = BatchNormalization()(x)\n",
    "x =  UpSampling1D(2)(mid_output)\n",
    "\n",
    "x = Conv1D(128, 50, activation = 'relu', padding='same')(x)\n",
    "x = BatchNormalization()(x)\n",
    "x =  UpSampling1D(2)(x)\n",
    "\n",
    "x = Conv1D(64, 64, activation = 'relu', padding='same')(x)\n",
    "x = BatchNormalization()(x)\n",
    "x =  UpSampling1D(2)(x)\n",
    "\n",
    "x = Conv1D(64, 50, activation = 'relu', padding = 'same')(x)\n",
    "x = BatchNormalization()(x)\n",
    "\n",
    "x = Conv1D(1, 1, activation = 'sigmoid', padding = 'same')(x)\n",
    "decoder = BatchNormalization()(x)\n",
    "\n",
    "op = tf.keras.optimizers.Adam(lr = 0.001)\n",
    "autoencoder = Model(inputs=visible, outputs = decoder)\n",
    "autoencoder.compile(optimizer = op, loss = 'mae')\n",
    "autoencoder.summary()\n",
    "\n",
    "encoder = Model(inputs=autoencoder.inputs, outputs=mid_output)"
   ]
  },
  {
   "cell_type": "code",
   "execution_count": 212,
   "metadata": {},
   "outputs": [
    {
     "name": "stdout",
     "output_type": "stream",
     "text": [
      "WARNING:tensorflow:No training configuration found in the save file, so the model was *not* compiled. Compile it manually.\n"
     ]
    }
   ],
   "source": [
    "from tensorflow import keras\n",
    "\n",
    "autoencoder = keras.models.load_model('cnn_autoencoder_3.h5')\n",
    "encoder = keras.models.load_model('cnn_encoder_3.h5')"
   ]
  },
  {
   "cell_type": "code",
   "execution_count": 213,
   "metadata": {},
   "outputs": [],
   "source": [
    "input_shape = autoencoder.layers[12].get_input_shape_at(0)\n",
    "layer_input = Input(shape = (500, 1))\n",
    "\n",
    "x = layer_input\n",
    "for layer in autoencoder.layers[12:]:\n",
    "    x = layer(x)\n",
    "    \n",
    "decoder_2 = Model(inputs = layer_input, outputs = x)\n"
   ]
  },
  {
   "cell_type": "code",
   "execution_count": 45,
   "metadata": {},
   "outputs": [
    {
     "name": "stdout",
     "output_type": "stream",
     "text": [
      "WARNING:tensorflow:`period` argument is deprecated. Please use `save_freq` to specify the frequency in number of batches seen.\n"
     ]
    }
   ],
   "source": [
    "from datetime import datetime\n",
    "import os\n",
    "from tensorflow import keras\n",
    "\n",
    "logdir=\"logs/ae\" + datetime.now().strftime(\"%Y%m%d-%H%M%S\")\n",
    "tensorboard_callback = keras.callbacks.TensorBoard(log_dir=logdir)\n",
    "\n",
    "checkpoint_path = 'logs/ck/ae/training/cp-{epoch:04d}.h5'\n",
    "checkpoint_dir = os.path.dirname(checkpoint_path)\n",
    "cp_callback = tf.keras.callbacks.ModelCheckpoint(\n",
    "filepath = checkpoint_path,\n",
    "verbose = 0,\n",
    "save_weights_only= True,\n",
    "period = 10)"
   ]
  },
  {
   "cell_type": "code",
   "execution_count": 46,
   "metadata": {},
   "outputs": [],
   "source": [
    "np.random.seed(77)\n",
    "np.random.shuffle(data)"
   ]
  },
  {
   "cell_type": "code",
   "execution_count": 29,
   "metadata": {
    "scrolled": true
   },
   "outputs": [
    {
     "name": "stdout",
     "output_type": "stream",
     "text": [
      "Epoch 1/500\n",
      " 2/41 [>.............................] - ETA: 1:41 - loss: 1.3433WARNING:tensorflow:Method (on_train_batch_end) is slow compared to the batch update (2.575689). Check your callbacks.\n",
      "41/41 [==============================] - 8s 201ms/step - loss: 0.9804 2s -\n",
      "Epoch 2/500\n",
      "41/41 [==============================] - 3s 66ms/step - loss: 0.8304: 0s - l\n",
      "Epoch 3/500\n",
      "41/41 [==============================] - 3s 66ms/step - loss: 0.7423: 1s - \n",
      "Epoch 4/500\n",
      "41/41 [==============================] - 3s 66ms/step - loss: 0.7141\n",
      "Epoch 5/500\n",
      "41/41 [==============================] - 3s 68ms/step - loss: 0.7002\n",
      "Epoch 6/500\n",
      "41/41 [==============================] - 3s 67ms/step - loss: 0.6856\n",
      "Epoch 7/500\n",
      "41/41 [==============================] - 3s 67ms/step - loss: 0.6771: 1s - loss: 0.68 - ETA: 1s - loss - ETA: 0s - loss: 0.67\n",
      "Epoch 8/500\n",
      "41/41 [==============================] - 3s 68ms/step - loss: 0.6748\n",
      "Epoch 9/500\n",
      "41/41 [==============================] - 3s 70ms/step - loss: 0.6699\n",
      "Epoch 10/500\n",
      "41/41 [==============================] - 3s 68ms/step - loss: 0.6608\n",
      "Epoch 11/500\n",
      "41/41 [==============================] - 3s 66ms/step - loss: 0.6575: 1s - - ETA: 0s - loss\n",
      "Epoch 12/500\n",
      "41/41 [==============================] - 3s 68ms/step - loss: 0.6564\n",
      "Epoch 13/500\n",
      "41/41 [==============================] - 3s 67ms/step - loss: 0.6515\n",
      "Epoch 14/500\n",
      "41/41 [==============================] - 3s 66ms/step - loss: 0.6480: 0s - loss: 0.648\n",
      "Epoch 15/500\n",
      "41/41 [==============================] - 3s 66ms/step - loss: 0.6436\n",
      "Epoch 16/500\n",
      "41/41 [==============================] - 3s 69ms/step - loss: 0.6398: 1s - loss: 0.63 - ETA: 1\n",
      "Epoch 17/500\n",
      "41/41 [==============================] - 3s 68ms/step - loss: 0.6362\n",
      "Epoch 18/500\n",
      "41/41 [==============================] - 3s 68ms/step - loss: 0.6307: 0s - lo\n",
      "Epoch 19/500\n",
      "41/41 [==============================] - 3s 67ms/step - loss: 0.6234\n",
      "Epoch 20/500\n",
      "41/41 [==============================] - 3s 66ms/step - loss: 0.6165: 0s - \n",
      "Epoch 21/500\n",
      "41/41 [==============================] - 3s 67ms/step - loss: 0.6102\n",
      "Epoch 22/500\n",
      "41/41 [==============================] - 3s 66ms/step - loss: 0.6053\n",
      "Epoch 23/500\n",
      "41/41 [==============================] - 3s 66ms/step - loss: 0.6023: 1s - loss:  - ETA: 1s - loss:  - ETA: \n",
      "Epoch 24/500\n",
      "41/41 [==============================] - 3s 66ms/step - loss: 0.5971\n",
      "Epoch 25/500\n",
      "41/41 [==============================] - 3s 66ms/step - loss: 0.5933\n",
      "Epoch 26/500\n",
      "41/41 [==============================] - 3s 66ms/step - loss: 0.5899\n",
      "Epoch 27/500\n",
      "41/41 [==============================] - 3s 66ms/step - loss: 0.5893\n",
      "Epoch 28/500\n",
      "30/41 [====================>.........] - ETA: 0s - loss: 0.5848- ETA: 1s - - ETA: 1s - loss:"
     ]
    },
    {
     "ename": "KeyboardInterrupt",
     "evalue": "",
     "output_type": "error",
     "traceback": [
      "\u001b[1;31m---------------------------------------------------------------------------\u001b[0m",
      "\u001b[1;31mKeyboardInterrupt\u001b[0m                         Traceback (most recent call last)",
      "\u001b[1;32m<ipython-input-29-29ecd9b4612d>\u001b[0m in \u001b[0;36m<module>\u001b[1;34m\u001b[0m\n\u001b[1;32m----> 1\u001b[1;33m \u001b[0mhistory\u001b[0m \u001b[1;33m=\u001b[0m \u001b[0mautoencoder\u001b[0m\u001b[1;33m.\u001b[0m\u001b[0mfit\u001b[0m\u001b[1;33m(\u001b[0m\u001b[0mdata\u001b[0m\u001b[1;33m,\u001b[0m \u001b[0mdata\u001b[0m\u001b[1;33m,\u001b[0m \u001b[0mepochs\u001b[0m \u001b[1;33m=\u001b[0m \u001b[1;36m500\u001b[0m\u001b[1;33m,\u001b[0m \u001b[0mbatch_size\u001b[0m \u001b[1;33m=\u001b[0m \u001b[1;36m8\u001b[0m\u001b[1;33m,\u001b[0m \u001b[0mcallbacks\u001b[0m\u001b[1;33m=\u001b[0m\u001b[1;33m[\u001b[0m\u001b[0mtensorboard_callback\u001b[0m\u001b[1;33m,\u001b[0m \u001b[0mcp_callback\u001b[0m\u001b[1;33m]\u001b[0m\u001b[1;33m)\u001b[0m\u001b[1;33m\u001b[0m\u001b[1;33m\u001b[0m\u001b[0m\n\u001b[0m",
      "\u001b[1;32m~\\anaconda3\\envs\\ttttf\\lib\\site-packages\\tensorflow\\python\\keras\\engine\\training.py\u001b[0m in \u001b[0;36m_method_wrapper\u001b[1;34m(self, *args, **kwargs)\u001b[0m\n\u001b[0;32m     64\u001b[0m   \u001b[1;32mdef\u001b[0m \u001b[0m_method_wrapper\u001b[0m\u001b[1;33m(\u001b[0m\u001b[0mself\u001b[0m\u001b[1;33m,\u001b[0m \u001b[1;33m*\u001b[0m\u001b[0margs\u001b[0m\u001b[1;33m,\u001b[0m \u001b[1;33m**\u001b[0m\u001b[0mkwargs\u001b[0m\u001b[1;33m)\u001b[0m\u001b[1;33m:\u001b[0m\u001b[1;33m\u001b[0m\u001b[1;33m\u001b[0m\u001b[0m\n\u001b[0;32m     65\u001b[0m     \u001b[1;32mif\u001b[0m \u001b[1;32mnot\u001b[0m \u001b[0mself\u001b[0m\u001b[1;33m.\u001b[0m\u001b[0m_in_multi_worker_mode\u001b[0m\u001b[1;33m(\u001b[0m\u001b[1;33m)\u001b[0m\u001b[1;33m:\u001b[0m  \u001b[1;31m# pylint: disable=protected-access\u001b[0m\u001b[1;33m\u001b[0m\u001b[1;33m\u001b[0m\u001b[0m\n\u001b[1;32m---> 66\u001b[1;33m       \u001b[1;32mreturn\u001b[0m \u001b[0mmethod\u001b[0m\u001b[1;33m(\u001b[0m\u001b[0mself\u001b[0m\u001b[1;33m,\u001b[0m \u001b[1;33m*\u001b[0m\u001b[0margs\u001b[0m\u001b[1;33m,\u001b[0m \u001b[1;33m**\u001b[0m\u001b[0mkwargs\u001b[0m\u001b[1;33m)\u001b[0m\u001b[1;33m\u001b[0m\u001b[1;33m\u001b[0m\u001b[0m\n\u001b[0m\u001b[0;32m     67\u001b[0m \u001b[1;33m\u001b[0m\u001b[0m\n\u001b[0;32m     68\u001b[0m     \u001b[1;31m# Running inside `run_distribute_coordinator` already.\u001b[0m\u001b[1;33m\u001b[0m\u001b[1;33m\u001b[0m\u001b[1;33m\u001b[0m\u001b[0m\n",
      "\u001b[1;32m~\\anaconda3\\envs\\ttttf\\lib\\site-packages\\tensorflow\\python\\keras\\engine\\training.py\u001b[0m in \u001b[0;36mfit\u001b[1;34m(self, x, y, batch_size, epochs, verbose, callbacks, validation_split, validation_data, shuffle, class_weight, sample_weight, initial_epoch, steps_per_epoch, validation_steps, validation_batch_size, validation_freq, max_queue_size, workers, use_multiprocessing)\u001b[0m\n\u001b[0;32m    853\u001b[0m                 \u001b[0mcontext\u001b[0m\u001b[1;33m.\u001b[0m\u001b[0masync_wait\u001b[0m\u001b[1;33m(\u001b[0m\u001b[1;33m)\u001b[0m\u001b[1;33m\u001b[0m\u001b[1;33m\u001b[0m\u001b[0m\n\u001b[0;32m    854\u001b[0m               \u001b[0mlogs\u001b[0m \u001b[1;33m=\u001b[0m \u001b[0mtmp_logs\u001b[0m  \u001b[1;31m# No error, now safe to assign to logs.\u001b[0m\u001b[1;33m\u001b[0m\u001b[1;33m\u001b[0m\u001b[0m\n\u001b[1;32m--> 855\u001b[1;33m               \u001b[0mcallbacks\u001b[0m\u001b[1;33m.\u001b[0m\u001b[0mon_train_batch_end\u001b[0m\u001b[1;33m(\u001b[0m\u001b[0mstep\u001b[0m\u001b[1;33m,\u001b[0m \u001b[0mlogs\u001b[0m\u001b[1;33m)\u001b[0m\u001b[1;33m\u001b[0m\u001b[1;33m\u001b[0m\u001b[0m\n\u001b[0m\u001b[0;32m    856\u001b[0m         \u001b[0mepoch_logs\u001b[0m \u001b[1;33m=\u001b[0m \u001b[0mcopy\u001b[0m\u001b[1;33m.\u001b[0m\u001b[0mcopy\u001b[0m\u001b[1;33m(\u001b[0m\u001b[0mlogs\u001b[0m\u001b[1;33m)\u001b[0m\u001b[1;33m\u001b[0m\u001b[1;33m\u001b[0m\u001b[0m\n\u001b[0;32m    857\u001b[0m \u001b[1;33m\u001b[0m\u001b[0m\n",
      "\u001b[1;32m~\\anaconda3\\envs\\ttttf\\lib\\site-packages\\tensorflow\\python\\keras\\callbacks.py\u001b[0m in \u001b[0;36mon_train_batch_end\u001b[1;34m(self, batch, logs)\u001b[0m\n\u001b[0;32m    387\u001b[0m     \"\"\"\n\u001b[0;32m    388\u001b[0m     \u001b[1;32mif\u001b[0m \u001b[0mself\u001b[0m\u001b[1;33m.\u001b[0m\u001b[0m_should_call_train_batch_hooks\u001b[0m\u001b[1;33m:\u001b[0m\u001b[1;33m\u001b[0m\u001b[1;33m\u001b[0m\u001b[0m\n\u001b[1;32m--> 389\u001b[1;33m       \u001b[0mlogs\u001b[0m \u001b[1;33m=\u001b[0m \u001b[0mself\u001b[0m\u001b[1;33m.\u001b[0m\u001b[0m_process_logs\u001b[0m\u001b[1;33m(\u001b[0m\u001b[0mlogs\u001b[0m\u001b[1;33m)\u001b[0m\u001b[1;33m\u001b[0m\u001b[1;33m\u001b[0m\u001b[0m\n\u001b[0m\u001b[0;32m    390\u001b[0m       \u001b[0mself\u001b[0m\u001b[1;33m.\u001b[0m\u001b[0m_call_batch_hook\u001b[0m\u001b[1;33m(\u001b[0m\u001b[0mModeKeys\u001b[0m\u001b[1;33m.\u001b[0m\u001b[0mTRAIN\u001b[0m\u001b[1;33m,\u001b[0m \u001b[1;34m'end'\u001b[0m\u001b[1;33m,\u001b[0m \u001b[0mbatch\u001b[0m\u001b[1;33m,\u001b[0m \u001b[0mlogs\u001b[0m\u001b[1;33m=\u001b[0m\u001b[0mlogs\u001b[0m\u001b[1;33m)\u001b[0m\u001b[1;33m\u001b[0m\u001b[1;33m\u001b[0m\u001b[0m\n\u001b[0;32m    391\u001b[0m \u001b[1;33m\u001b[0m\u001b[0m\n",
      "\u001b[1;32m~\\anaconda3\\envs\\ttttf\\lib\\site-packages\\tensorflow\\python\\keras\\callbacks.py\u001b[0m in \u001b[0;36m_process_logs\u001b[1;34m(self, logs)\u001b[0m\n\u001b[0;32m    263\u001b[0m     \u001b[1;34m\"\"\"Turns tensors into numpy arrays or Python scalars.\"\"\"\u001b[0m\u001b[1;33m\u001b[0m\u001b[1;33m\u001b[0m\u001b[0m\n\u001b[0;32m    264\u001b[0m     \u001b[1;32mif\u001b[0m \u001b[0mlogs\u001b[0m\u001b[1;33m:\u001b[0m\u001b[1;33m\u001b[0m\u001b[1;33m\u001b[0m\u001b[0m\n\u001b[1;32m--> 265\u001b[1;33m       \u001b[1;32mreturn\u001b[0m \u001b[0mtf_utils\u001b[0m\u001b[1;33m.\u001b[0m\u001b[0mto_numpy_or_python_type\u001b[0m\u001b[1;33m(\u001b[0m\u001b[0mlogs\u001b[0m\u001b[1;33m)\u001b[0m\u001b[1;33m\u001b[0m\u001b[1;33m\u001b[0m\u001b[0m\n\u001b[0m\u001b[0;32m    266\u001b[0m     \u001b[1;32mreturn\u001b[0m \u001b[1;33m{\u001b[0m\u001b[1;33m}\u001b[0m\u001b[1;33m\u001b[0m\u001b[1;33m\u001b[0m\u001b[0m\n\u001b[0;32m    267\u001b[0m \u001b[1;33m\u001b[0m\u001b[0m\n",
      "\u001b[1;32m~\\anaconda3\\envs\\ttttf\\lib\\site-packages\\tensorflow\\python\\keras\\utils\\tf_utils.py\u001b[0m in \u001b[0;36mto_numpy_or_python_type\u001b[1;34m(tensors)\u001b[0m\n\u001b[0;32m    521\u001b[0m     \u001b[1;32mreturn\u001b[0m \u001b[0mt\u001b[0m  \u001b[1;31m# Don't turn ragged or sparse tensors to NumPy.\u001b[0m\u001b[1;33m\u001b[0m\u001b[1;33m\u001b[0m\u001b[0m\n\u001b[0;32m    522\u001b[0m \u001b[1;33m\u001b[0m\u001b[0m\n\u001b[1;32m--> 523\u001b[1;33m   \u001b[1;32mreturn\u001b[0m \u001b[0mnest\u001b[0m\u001b[1;33m.\u001b[0m\u001b[0mmap_structure\u001b[0m\u001b[1;33m(\u001b[0m\u001b[0m_to_single_numpy_or_python_type\u001b[0m\u001b[1;33m,\u001b[0m \u001b[0mtensors\u001b[0m\u001b[1;33m)\u001b[0m\u001b[1;33m\u001b[0m\u001b[1;33m\u001b[0m\u001b[0m\n\u001b[0m\u001b[0;32m    524\u001b[0m \u001b[1;33m\u001b[0m\u001b[0m\n",
      "\u001b[1;32m~\\anaconda3\\envs\\ttttf\\lib\\site-packages\\tensorflow\\python\\util\\nest.py\u001b[0m in \u001b[0;36mmap_structure\u001b[1;34m(func, *structure, **kwargs)\u001b[0m\n\u001b[0;32m    615\u001b[0m \u001b[1;33m\u001b[0m\u001b[0m\n\u001b[0;32m    616\u001b[0m   return pack_sequence_as(\n\u001b[1;32m--> 617\u001b[1;33m       \u001b[0mstructure\u001b[0m\u001b[1;33m[\u001b[0m\u001b[1;36m0\u001b[0m\u001b[1;33m]\u001b[0m\u001b[1;33m,\u001b[0m \u001b[1;33m[\u001b[0m\u001b[0mfunc\u001b[0m\u001b[1;33m(\u001b[0m\u001b[1;33m*\u001b[0m\u001b[0mx\u001b[0m\u001b[1;33m)\u001b[0m \u001b[1;32mfor\u001b[0m \u001b[0mx\u001b[0m \u001b[1;32min\u001b[0m \u001b[0mentries\u001b[0m\u001b[1;33m]\u001b[0m\u001b[1;33m,\u001b[0m\u001b[1;33m\u001b[0m\u001b[1;33m\u001b[0m\u001b[0m\n\u001b[0m\u001b[0;32m    618\u001b[0m       expand_composites=expand_composites)\n\u001b[0;32m    619\u001b[0m \u001b[1;33m\u001b[0m\u001b[0m\n",
      "\u001b[1;32m~\\anaconda3\\envs\\ttttf\\lib\\site-packages\\tensorflow\\python\\util\\nest.py\u001b[0m in \u001b[0;36m<listcomp>\u001b[1;34m(.0)\u001b[0m\n\u001b[0;32m    615\u001b[0m \u001b[1;33m\u001b[0m\u001b[0m\n\u001b[0;32m    616\u001b[0m   return pack_sequence_as(\n\u001b[1;32m--> 617\u001b[1;33m       \u001b[0mstructure\u001b[0m\u001b[1;33m[\u001b[0m\u001b[1;36m0\u001b[0m\u001b[1;33m]\u001b[0m\u001b[1;33m,\u001b[0m \u001b[1;33m[\u001b[0m\u001b[0mfunc\u001b[0m\u001b[1;33m(\u001b[0m\u001b[1;33m*\u001b[0m\u001b[0mx\u001b[0m\u001b[1;33m)\u001b[0m \u001b[1;32mfor\u001b[0m \u001b[0mx\u001b[0m \u001b[1;32min\u001b[0m \u001b[0mentries\u001b[0m\u001b[1;33m]\u001b[0m\u001b[1;33m,\u001b[0m\u001b[1;33m\u001b[0m\u001b[1;33m\u001b[0m\u001b[0m\n\u001b[0m\u001b[0;32m    618\u001b[0m       expand_composites=expand_composites)\n\u001b[0;32m    619\u001b[0m \u001b[1;33m\u001b[0m\u001b[0m\n",
      "\u001b[1;32m~\\anaconda3\\envs\\ttttf\\lib\\site-packages\\tensorflow\\python\\keras\\utils\\tf_utils.py\u001b[0m in \u001b[0;36m_to_single_numpy_or_python_type\u001b[1;34m(t)\u001b[0m\n\u001b[0;32m    517\u001b[0m   \u001b[1;32mdef\u001b[0m \u001b[0m_to_single_numpy_or_python_type\u001b[0m\u001b[1;33m(\u001b[0m\u001b[0mt\u001b[0m\u001b[1;33m)\u001b[0m\u001b[1;33m:\u001b[0m\u001b[1;33m\u001b[0m\u001b[1;33m\u001b[0m\u001b[0m\n\u001b[0;32m    518\u001b[0m     \u001b[1;32mif\u001b[0m \u001b[0misinstance\u001b[0m\u001b[1;33m(\u001b[0m\u001b[0mt\u001b[0m\u001b[1;33m,\u001b[0m \u001b[0mops\u001b[0m\u001b[1;33m.\u001b[0m\u001b[0mTensor\u001b[0m\u001b[1;33m)\u001b[0m\u001b[1;33m:\u001b[0m\u001b[1;33m\u001b[0m\u001b[1;33m\u001b[0m\u001b[0m\n\u001b[1;32m--> 519\u001b[1;33m       \u001b[0mx\u001b[0m \u001b[1;33m=\u001b[0m \u001b[0mt\u001b[0m\u001b[1;33m.\u001b[0m\u001b[0mnumpy\u001b[0m\u001b[1;33m(\u001b[0m\u001b[1;33m)\u001b[0m\u001b[1;33m\u001b[0m\u001b[1;33m\u001b[0m\u001b[0m\n\u001b[0m\u001b[0;32m    520\u001b[0m       \u001b[1;32mreturn\u001b[0m \u001b[0mx\u001b[0m\u001b[1;33m.\u001b[0m\u001b[0mitem\u001b[0m\u001b[1;33m(\u001b[0m\u001b[1;33m)\u001b[0m \u001b[1;32mif\u001b[0m \u001b[0mnp\u001b[0m\u001b[1;33m.\u001b[0m\u001b[0mndim\u001b[0m\u001b[1;33m(\u001b[0m\u001b[0mx\u001b[0m\u001b[1;33m)\u001b[0m \u001b[1;33m==\u001b[0m \u001b[1;36m0\u001b[0m \u001b[1;32melse\u001b[0m \u001b[0mx\u001b[0m\u001b[1;33m\u001b[0m\u001b[1;33m\u001b[0m\u001b[0m\n\u001b[0;32m    521\u001b[0m     \u001b[1;32mreturn\u001b[0m \u001b[0mt\u001b[0m  \u001b[1;31m# Don't turn ragged or sparse tensors to NumPy.\u001b[0m\u001b[1;33m\u001b[0m\u001b[1;33m\u001b[0m\u001b[0m\n",
      "\u001b[1;32m~\\anaconda3\\envs\\ttttf\\lib\\site-packages\\tensorflow\\python\\framework\\ops.py\u001b[0m in \u001b[0;36mnumpy\u001b[1;34m(self)\u001b[0m\n\u001b[0;32m    959\u001b[0m     \"\"\"\n\u001b[0;32m    960\u001b[0m     \u001b[1;31m# TODO(slebedev): Consider avoiding a copy for non-CPU or remote tensors.\u001b[0m\u001b[1;33m\u001b[0m\u001b[1;33m\u001b[0m\u001b[1;33m\u001b[0m\u001b[0m\n\u001b[1;32m--> 961\u001b[1;33m     \u001b[0mmaybe_arr\u001b[0m \u001b[1;33m=\u001b[0m \u001b[0mself\u001b[0m\u001b[1;33m.\u001b[0m\u001b[0m_numpy\u001b[0m\u001b[1;33m(\u001b[0m\u001b[1;33m)\u001b[0m  \u001b[1;31m# pylint: disable=protected-access\u001b[0m\u001b[1;33m\u001b[0m\u001b[1;33m\u001b[0m\u001b[0m\n\u001b[0m\u001b[0;32m    962\u001b[0m     \u001b[1;32mreturn\u001b[0m \u001b[0mmaybe_arr\u001b[0m\u001b[1;33m.\u001b[0m\u001b[0mcopy\u001b[0m\u001b[1;33m(\u001b[0m\u001b[1;33m)\u001b[0m \u001b[1;32mif\u001b[0m \u001b[0misinstance\u001b[0m\u001b[1;33m(\u001b[0m\u001b[0mmaybe_arr\u001b[0m\u001b[1;33m,\u001b[0m \u001b[0mnp\u001b[0m\u001b[1;33m.\u001b[0m\u001b[0mndarray\u001b[0m\u001b[1;33m)\u001b[0m \u001b[1;32melse\u001b[0m \u001b[0mmaybe_arr\u001b[0m\u001b[1;33m\u001b[0m\u001b[1;33m\u001b[0m\u001b[0m\n\u001b[0;32m    963\u001b[0m \u001b[1;33m\u001b[0m\u001b[0m\n",
      "\u001b[1;32m~\\anaconda3\\envs\\ttttf\\lib\\site-packages\\tensorflow\\python\\framework\\ops.py\u001b[0m in \u001b[0;36m_numpy\u001b[1;34m(self)\u001b[0m\n\u001b[0;32m    925\u001b[0m     \u001b[1;31m# pylint: disable=protected-access\u001b[0m\u001b[1;33m\u001b[0m\u001b[1;33m\u001b[0m\u001b[1;33m\u001b[0m\u001b[0m\n\u001b[0;32m    926\u001b[0m     \u001b[1;32mtry\u001b[0m\u001b[1;33m:\u001b[0m\u001b[1;33m\u001b[0m\u001b[1;33m\u001b[0m\u001b[0m\n\u001b[1;32m--> 927\u001b[1;33m       \u001b[1;32mreturn\u001b[0m \u001b[0mself\u001b[0m\u001b[1;33m.\u001b[0m\u001b[0m_numpy_internal\u001b[0m\u001b[1;33m(\u001b[0m\u001b[1;33m)\u001b[0m\u001b[1;33m\u001b[0m\u001b[1;33m\u001b[0m\u001b[0m\n\u001b[0m\u001b[0;32m    928\u001b[0m     \u001b[1;32mexcept\u001b[0m \u001b[0mcore\u001b[0m\u001b[1;33m.\u001b[0m\u001b[0m_NotOkStatusException\u001b[0m \u001b[1;32mas\u001b[0m \u001b[0me\u001b[0m\u001b[1;33m:\u001b[0m\u001b[1;33m\u001b[0m\u001b[1;33m\u001b[0m\u001b[0m\n\u001b[0;32m    929\u001b[0m       \u001b[0msix\u001b[0m\u001b[1;33m.\u001b[0m\u001b[0mraise_from\u001b[0m\u001b[1;33m(\u001b[0m\u001b[0mcore\u001b[0m\u001b[1;33m.\u001b[0m\u001b[0m_status_to_exception\u001b[0m\u001b[1;33m(\u001b[0m\u001b[0me\u001b[0m\u001b[1;33m.\u001b[0m\u001b[0mcode\u001b[0m\u001b[1;33m,\u001b[0m \u001b[0me\u001b[0m\u001b[1;33m.\u001b[0m\u001b[0mmessage\u001b[0m\u001b[1;33m)\u001b[0m\u001b[1;33m,\u001b[0m \u001b[1;32mNone\u001b[0m\u001b[1;33m)\u001b[0m\u001b[1;33m\u001b[0m\u001b[1;33m\u001b[0m\u001b[0m\n",
      "\u001b[1;31mKeyboardInterrupt\u001b[0m: "
     ]
    }
   ],
   "source": [
    "#history = autoencoder.fit(data, data, epochs = 500, batch_size = 8, callbacks=[tensorboard_callback, cp_callback])"
   ]
  },
  {
   "cell_type": "code",
   "execution_count": 210,
   "metadata": {},
   "outputs": [],
   "source": [
    "\"\"\"autoencoder.save('cnn_autoencoder_2.h5')\n",
    "encoder.save('cnn_encoder_2.h5')\"\"\""
   ]
  },
  {
   "cell_type": "code",
   "execution_count": 214,
   "metadata": {},
   "outputs": [
    {
     "data": {
      "image/png": "[encoded data removed]",
      "text/plain": [
       "<Figure size 720x720 with 25 Axes>"
      ]
     },
     "metadata": {
      "needs_background": "light"
     },
     "output_type": "display_data"
    }
   ],
   "source": [
    "import matplotlib.pyplot as plt\n",
    "X = data\n",
    "\n",
    "for s in range(0, 1):\n",
    "    fig, axes = plt.subplots(5, 5, figsize = (10, 10))\n",
    "    for y in range(0, 5):\n",
    "        for x in range(0, 5):\n",
    "            n = np.random.choice(100)\n",
    "            axes[y][x].plot(autoencoder.predict(X[n].reshape(1, 4000, 1)).reshape(4000, 1), 'r-', label = 'predict', alpha = 0.7)\n",
    "            axes[y][x].plot(X[n], label = 'actual', alpha = 0.3)\n",
    "            axes[y][x].legend()\n",
    "            \n",
    "    s = s+1\n",
    "   \n",
    "    plt.tight_layout()"
   ]
  },
  {
   "cell_type": "code",
   "execution_count": null,
   "metadata": {},
   "outputs": [],
   "source": [
    "import pandas as pd\n",
    "\n",
    "tmp = encoder.predict(X)\n",
    "for j in range(3):\n",
    "    fig, ax = plt.subplots(3, 5, figsize = (10, 6))\n",
    "    for i in range(5):\n",
    "       \n",
    "        n = np.random.choice(100)\n",
    "\n",
    "        ax[0][i].plot(range(4000), X[n])\n",
    "        ax[0][i].yaxis.set_visible(False)\n",
    "        ax[0][i].xaxis.set_visible(False)\n",
    "        ax[0][2].set_title('original input', {'fontsize' : 16})\n",
    "\n",
    "        ax[1][i].plot(range(500),tmp[n].flatten())\n",
    "        ax[1][i].yaxis.set_visible(False)\n",
    "        ax[1][i].xaxis.set_visible(False)\n",
    "        ax[1][2].set_title('encoder output', {'fontsize' : 16})\n",
    "\n",
    "        ax[2][i].plot(range(4000),autoencoder.predict(X)[n])\n",
    "        ax[2][i].yaxis.set_visible(False)\n",
    "        ax[2][i].xaxis.set_visible(False)\n",
    "        ax[2][2].set_title('decoder output', {'fontsize' : 16})\n",
    "\n",
    "    plt.tight_layout()\n",
    "    plt.show()\n",
    "    print('--------------------------------------------------------------------------')"
   ]
  },
  {
   "cell_type": "code",
   "execution_count": null,
   "metadata": {},
   "outputs": [],
   "source": [
    "reconstructions = autoencoder.predict(X)\n",
    "reconstructions = reconstructions.reshape(326, 4000)\n",
    "train_loss = tf.keras.losses.mae(reconstructions, X.reshape(reconstructions.shape))\n",
    "plt.figure(figsize = (30, 5))\n",
    "plt.hist(train_loss, bins = 10)\n",
    "plt.show()"
   ]
  },
  {
   "cell_type": "code",
   "execution_count": null,
   "metadata": {},
   "outputs": [],
   "source": [
    "threshold = np.mean(train_loss) + np.std(train_loss)\n",
    "print(\"Threshold: \", threshold)"
   ]
  },
  {
   "cell_type": "code",
   "execution_count": null,
   "metadata": {},
   "outputs": [],
   "source": [
    "import seaborn as sns\n",
    "sns.histplot(train_loss, kde = True)\n",
    "plt.show()"
   ]
  },
  {
   "cell_type": "code",
   "execution_count": null,
   "metadata": {},
   "outputs": [],
   "source": [
    "\"\"\"model.save('cnn_autoencoder.h5')\n",
    "model2.save('cnn_encoder.h5')\"\"\""
   ]
  },
  {
   "cell_type": "code",
   "execution_count": null,
   "metadata": {},
   "outputs": [],
   "source": [
    "nm = X[pd.DataFrame(np.where(Y == cobj.cluster_centers_[0])[0]).value_counts()[0]]\n",
    "plt.plot(range(len(nm)), nm)"
   ]
  },
  {
   "cell_type": "code",
   "execution_count": null,
   "metadata": {},
   "outputs": [],
   "source": [
    "pd.DataFrame(np.where(Y == cobj.cluster_centers_[0])[0]).value_counts()[0]"
   ]
  },
  {
   "cell_type": "code",
   "execution_count": null,
   "metadata": {},
   "outputs": [],
   "source": [
    "op = decoder_2.predict(cobj.cluster_centers_[0].reshape(1, 500, 1)).reshape(1, 4000).T\n",
    "plt.plot(range(len(op)), op)"
   ]
  },
  {
   "cell_type": "code",
   "execution_count": null,
   "metadata": {},
   "outputs": [],
   "source": []
  },
  {
   "cell_type": "code",
   "execution_count": null,
   "metadata": {},
   "outputs": [],
   "source": [
    "from sklearn_extra.cluster import KMedoids\n",
    "from sklearn.manifold import TSNE\n",
    "\n",
    "Y = encoder.predict(X).reshape(326, 500)\n",
    "km = KMedoids(n_clusters=3, init = 'k-medoids++', max_iter = 300, )\n",
    "\n",
    "cobj = km.fit(Y)\n",
    "t = km.predict(Y)\n",
    "labels = cobj.labels_\n",
    "\n",
    "fig, ax = plt.subplots(3, 1, figsize=(13, 10))\n",
    "\n",
    "for yi in range(3):\n",
    "    for xx in X[t == yi]:\n",
    "        ax[yi].plot(xx.ravel(), \"k-\", alpha=.2)\n",
    "    nm = X[pd.DataFrame(np.where(Y == cobj.cluster_centers_[yi])[0]).value_counts()[0]]    \n",
    "    ax[yi].plot(range(len(nm)), nm, 'r-', label = 'cluster {}'.format(yi))    \n",
    "    ax[yi].legend()\n",
    "plt.show()"
   ]
  },
  {
   "cell_type": "code",
   "execution_count": null,
   "metadata": {},
   "outputs": [],
   "source": [
    "tsne = TSNE(learning_rate=300, n_components=2)\n",
    "transformed = tsne.fit_transform(Y)\n",
    "\n",
    "fig = plt.figure()\n",
    "plt.scatter(transformed.T[0], transformed.T[1])\n",
    "plt.show()\n",
    "\n",
    "unique_labels = set(labels)\n",
    "colors = [\n",
    "    plt.cm.Spectral(each) for each in np.linspace(0, 1, len(unique_labels))\n",
    "]\n",
    "for k, col in zip(unique_labels, colors):\n",
    "\n",
    "    class_member_mask = labels == k\n",
    "\n",
    "    xy = transformed[class_member_mask]\n",
    "    plt.plot(\n",
    "        xy[:, 0],\n",
    "        xy[:, 1],\n",
    "        \"o\",\n",
    "        markerfacecolor=tuple(col),\n",
    "        markeredgecolor=\"k\",\n",
    "        markersize=6,\n",
    "    )\n",
    "    \n",
    "    plt.text(\n",
    "       xy[:, 0][0],\n",
    "        xy[:, 1][0],\n",
    "        s = '{}'.format(k),\n",
    "        fontsize = 20\n",
    "    )\n",
    "\n",
    "plt.show()"
   ]
  },
  {
   "cell_type": "code",
   "execution_count": null,
   "metadata": {},
   "outputs": [],
   "source": [
    "import umap\n",
    "km2 = km\n",
    "umaps = umap.UMAP(n_neighbors = 50)\n",
    "embedding = umaps.fit_transform(Y)\n",
    "t2 = km2.predict(Y)\n",
    "labels = cobj.labels_\n",
    "\n",
    "unique_labels = set(labels)\n",
    "colors = [\n",
    "    plt.cm.Spectral(each) for each in np.linspace(0, 1, len(unique_labels))\n",
    "]\n",
    "for k, col in zip(unique_labels, colors):\n",
    "\n",
    "    class_member_mask = labels == k\n",
    "\n",
    "    xy = embedding[class_member_mask]\n",
    "    plt.plot(\n",
    "        xy[:, 0],\n",
    "        xy[:, 1],\n",
    "        \"o\",\n",
    "        markerfacecolor=tuple(col),\n",
    "        markeredgecolor=\"k\",\n",
    "        markersize=6,\n",
    "    )\n",
    "    \n",
    "    plt.text(\n",
    "       xy[:, 0][0],\n",
    "        xy[:, 1][0],\n",
    "        s = '{}'.format(k),\n",
    "        fontsize = 20\n",
    "    )\n",
    "\n",
    "\n",
    "plt.show()"
   ]
  },
  {
   "cell_type": "code",
   "execution_count": null,
   "metadata": {},
   "outputs": [],
   "source": [
    "from tslearn.clustering import TimeSeriesKMeans\n",
    "import time"
   ]
  },
  {
   "cell_type": "code",
   "execution_count": null,
   "metadata": {},
   "outputs": [],
   "source": [
    "start = time.time()\n",
    "km = TimeSeriesKMeans(n_clusters = 4, metric = 'dtw', max_iter = 50, n_init = 1, n_jobs = -1).fit(Y)\n",
    "print(\"time :\", time.time() - start)"
   ]
  },
  {
   "cell_type": "code",
   "execution_count": null,
   "metadata": {},
   "outputs": [],
   "source": [
    "km.cluster_centers_[0].reshape(1, 500, 1).shape"
   ]
  },
  {
   "cell_type": "code",
   "execution_count": null,
   "metadata": {},
   "outputs": [],
   "source": [
    "pd.DataFrame(decoder_2.predict(km.cluster_centers_[3].reshape(1, 500, 1)).reshape(4000, 1)).plot(figsize = (13, 5))"
   ]
  },
  {
   "cell_type": "code",
   "execution_count": null,
   "metadata": {},
   "outputs": [],
   "source": [
    "new = []\n",
    "\n",
    "for i in range(4):\n",
    "    new.append(umaps.transform(km.cluster_centers_[i].reshape(1, 500)))"
   ]
  },
  {
   "cell_type": "code",
   "execution_count": null,
   "metadata": {},
   "outputs": [],
   "source": [
    "t2 = km.predict(Y)\n",
    "cobj = km\n",
    "labels = cobj.labels_\n",
    "\n",
    "unique_labels = set(labels)\n",
    "colors = [\n",
    "    plt.cm.Spectral(each) for each in np.linspace(0, 1, len(unique_labels))\n",
    "]\n",
    "for k, col in zip(unique_labels, colors):\n",
    "\n",
    "    class_member_mask = labels == k\n",
    "\n",
    "    xy = embedding[class_member_mask]\n",
    "    plt.plot(\n",
    "        xy[:, 0],\n",
    "        xy[:, 1],\n",
    "        \"o\",\n",
    "        markerfacecolor=tuple(col),\n",
    "        markeredgecolor=\"k\",\n",
    "        markersize=6,\n",
    "    )\n",
    "    \n",
    "    plt.text(\n",
    "       xy[:, 0][0],\n",
    "        xy[:, 1][0],\n",
    "        s = '{}'.format(k),\n",
    "        fontsize = 20\n",
    "    )\n",
    "\n",
    "for i in range(4):\n",
    "    plt.scatter(new[i][0][0], new[i][0][1], s = 100)\n",
    "\n",
    "plt.show()"
   ]
  },
  {
   "cell_type": "code",
   "execution_count": null,
   "metadata": {},
   "outputs": [],
   "source": []
  },
  {
   "cell_type": "code",
   "execution_count": null,
   "metadata": {},
   "outputs": [],
   "source": []
  },
  {
   "cell_type": "code",
   "execution_count": null,
   "metadata": {},
   "outputs": [],
   "source": []
  }
 ],
 "metadata": {
  "kernelspec": {
   "display_name": "Python 3",
   "language": "python",
   "name": "python3"
  },
  "language_info": {
   "codemirror_mode": {
    "name": "ipython",
    "version": 3
   },
   "file_extension": ".py",
   "mimetype": "text/x-python",
   "name": "python",
   "nbconvert_exporter": "python",
   "pygments_lexer": "ipython3",
   "version": "3.8.5"
  }
 },
 "nbformat": 4,
 "nbformat_minor": 4
}
